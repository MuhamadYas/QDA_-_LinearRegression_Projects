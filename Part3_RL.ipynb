{
 "cells": [
  {
   "cell_type": "code",
   "execution_count": 1,
   "id": "648eb23e-875a-4fa5-9dad-2857b5c9340a",
   "metadata": {},
   "outputs": [],
   "source": [
    "import pandas as pd\n",
    "import numpy as np\n",
    "import matplotlib.pyplot as plt\n",
    "import re\n",
    "import time\n",
    "from sklearn.model_selection import train_test_split\n",
    "from sklearn.linear_model import LinearRegression\n",
    "from datetime import datetime"
   ]
  },
  {
   "cell_type": "markdown",
   "id": "9d6d0e17-9ad1-4db8-965d-a4b3b3d013e9",
   "metadata": {},
   "source": [
    "## Q7"
   ]
  },
  {
   "cell_type": "markdown",
   "id": "baa88f8c-a354-4bbe-b05b-2826dbadb3b1",
   "metadata": {},
   "source": [
    "### loading the data and suit it to meet the requirements in the question"
   ]
  },
  {
   "cell_type": "code",
   "execution_count": 2,
   "id": "e73cf424-335b-49ef-9863-d0b7d25d1459",
   "metadata": {},
   "outputs": [],
   "source": [
    "df = pd.read_csv('recorded times.csv')\n",
    "test_df = pd.read_csv('Test.csv')"
   ]
  },
  {
   "cell_type": "code",
   "execution_count": 3,
   "id": "cb03e819-e826-4b47-87b6-505f5ec19edf",
   "metadata": {},
   "outputs": [],
   "source": [
    "# Group by 'Start', convert 'End' to set to remove duplicates, then convert to list\n",
    "# Creating a map object where key is a name of a location and value is a list of locations accessible from that key directly\n",
    "walk_trips = df.drop(df[df.Type == 'Car'].index ,axis=0).groupby('Start')['End'].apply(lambda x: list(set(x))).to_dict()\n",
    "car_trips = df.drop(df[df.Type == 'Pedestrian'].index ,axis=0).groupby('Start')['End'].apply(lambda x: list(set(x))).to_dict()"
   ]
  },
  {
   "cell_type": "markdown",
   "id": "d8d5536b-e026-416c-b081-de7f7086ea84",
   "metadata": {},
   "source": [
    "#### function that takes a date string and converts it to unix time integer"
   ]
  },
  {
   "cell_type": "code",
   "execution_count": 4,
   "id": "0b7a5347-e995-4b4d-89d2-e1b2b8114835",
   "metadata": {},
   "outputs": [],
   "source": [
    "def convert_to_unix(date_str, mode):\n",
    "    str_date = re.split(r'[/ :]', date_str)\n",
    "    int_date = [np.int64(numeric_string) for numeric_string in str_date]\n",
    "    \n",
    "    # The order is: month, day, year, hour, minutes in test\n",
    "    # Order in train is day, month, year, hour, minutes\n",
    "    if mode == 'train':\n",
    "        day, month, year, hour, minutes = int_date\n",
    "    elif mode == 'test':\n",
    "        month, day, year, hour, minutes = int_date\n",
    "    dt = datetime(year, month, day, hour, minutes)\n",
    "    \n",
    "    unix_time = np.int64(time.mktime(dt.timetuple()))\n",
    "    return unix_time"
   ]
  },
  {
   "cell_type": "markdown",
   "id": "0f8c6f85-d813-450f-bbb6-74dae6f6c96f",
   "metadata": {},
   "source": [
    "#### feature engineering, making sure everything is numerical"
   ]
  },
  {
   "cell_type": "code",
   "execution_count": 5,
   "id": "f68ceab4-b976-4866-89cd-5cfe839008ab",
   "metadata": {},
   "outputs": [],
   "source": [
    "# turn date collumn to unix time (seconds)\n",
    "df['Date'] = df['Date'].apply(lambda x: convert_to_unix(x, 'train'))\n",
    "test_df['Date'] = test_df['Date'].apply(lambda x: convert_to_unix(x, 'test'))\n",
    "\n",
    "# create a set (no duplicates) of trips and types (pedestrian/car)\n",
    "unique_Type = set(df['Type'])\n",
    "unique_locations = set(df['Start']).union(df['End'])\n",
    "\n",
    "# Create a mapping from locations/type names to numbers\n",
    "Type_to_numbers_map = {Type: j for j, Type in enumerate(unique_Type)}\n",
    "locations_to_number_map = {location: i for i, location in enumerate(unique_locations)}\n",
    "\n",
    "# Replace city/type names with numbers in the DataFrame\n",
    "df['Start'] = df['Start'].map(locations_to_number_map)\n",
    "df['End'] = df['End'].map(locations_to_number_map)\n",
    "df['Type'] = df['Type'].map(Type_to_numbers_map)\n",
    "\n",
    "t = df['Travel time'].to_numpy()\n",
    "t = t.reshape(len(t), 1)\n",
    "X = df.drop('Travel time', axis=1)\n",
    "\n",
    "# get only pedestrians\n",
    "t_pedest = t[np.where(df['Type'] == 1)]\n",
    "X_pedest = X.drop(X[X.Type == 0].index, axis=0).drop('Type', axis=1).to_numpy()\n",
    "\n",
    "# get only cars\n",
    "t_cars = t[np.where(df['Type'] == 0)]\n",
    "X_cars = X.drop(X[X.Type == 1].index, axis=0).drop('Type', axis=1).to_numpy()\n",
    "\n",
    "# car - 0 , pedestrian - 1"
   ]
  },
  {
   "cell_type": "markdown",
   "id": "32295c01-cd17-4040-8055-2569354fd48a",
   "metadata": {},
   "source": [
    "### create helper functions to train the regressor"
   ]
  },
  {
   "cell_type": "markdown",
   "id": "19a5f628-d4b4-430c-b3bc-7ec3797c9672",
   "metadata": {},
   "source": [
    "#### create X matrix according the polynomial degree"
   ]
  },
  {
   "cell_type": "code",
   "execution_count": 6,
   "id": "d5e09472-9e5a-40b1-bb06-fd1319f4375f",
   "metadata": {},
   "outputs": [],
   "source": [
    "def create_X_matrix(X, d):\n",
    "    X_matrix = np.ones((X.shape[0], 1))\n",
    "    for degree in range(1, d + 1):\n",
    "      X_matrix = np.hstack((X_matrix, X**degree))\n",
    "    return X_matrix"
   ]
  },
  {
   "cell_type": "markdown",
   "id": "6aed4513-296a-4ad3-bc85-1683a4c65725",
   "metadata": {},
   "source": [
    "#### train the regressor and return the coefficients"
   ]
  },
  {
   "cell_type": "code",
   "execution_count": 7,
   "id": "5c304a81-d4eb-4d9e-846d-23e8a4b9becf",
   "metadata": {},
   "outputs": [],
   "source": [
    "def calc_w(X_matrix, t):\n",
    "    return np.linalg.inv(X_matrix.T@X_matrix)@X_matrix.T@t"
   ]
  },
  {
   "cell_type": "markdown",
   "id": "03934035-c054-4cfd-b369-26529b0f7e1b",
   "metadata": {},
   "source": [
    "#### approximate and return t"
   ]
  },
  {
   "cell_type": "code",
   "execution_count": 8,
   "id": "45278702-ae63-46b0-aa04-4572e0baf560",
   "metadata": {},
   "outputs": [],
   "source": [
    "def approx_t(X_matrix, w): \n",
    "    t_approx = np.zeros((len(X_matrix), 1))\n",
    "    for sample in range(len(X_matrix)):\n",
    "        t_approx[sample] += w.T@X_matrix[sample]\n",
    "    return t_approx"
   ]
  },
  {
   "cell_type": "code",
   "execution_count": 9,
   "id": "620ba551-1c3c-4c53-9765-326014e9e909",
   "metadata": {},
   "outputs": [],
   "source": [
    "def approx_t_single(X_matrix, w):\n",
    "    t_approx = w.T@X_matrix\n",
    "    return t_approx[0]"
   ]
  },
  {
   "cell_type": "markdown",
   "id": "db5a2b62-242c-4fda-a0f7-902e261227a9",
   "metadata": {},
   "source": [
    "#### calculate and return MSE for a set of samples"
   ]
  },
  {
   "cell_type": "code",
   "execution_count": 10,
   "id": "d31cc501-cd6a-463e-b890-714c4cd1afb0",
   "metadata": {},
   "outputs": [],
   "source": [
    "def calc_MSE(t_real, t_approx):\n",
    "    return (np.sum((t_real - t_approx)**2))/len(t_real)"
   ]
  },
  {
   "cell_type": "markdown",
   "id": "abd5df05-246a-48f7-b5c4-d98c6537bb8c",
   "metadata": {},
   "source": [
    "### train the regressor for pedestrians"
   ]
  },
  {
   "cell_type": "code",
   "execution_count": 17,
   "id": "0d51fd8f-8410-4252-8c99-26916ebf4c3e",
   "metadata": {},
   "outputs": [],
   "source": [
    "X_mat = create_X_matrix(X_pedest, 2)\n",
    "w = calc_w(X_mat, t_pedest)"
   ]
  },
  {
   "cell_type": "markdown",
   "id": "69ddebe2-60f0-42d5-b21b-9d5413d14eee",
   "metadata": {},
   "source": [
    "### find and print best route for the test data for pedestrians"
   ]
  },
  {
   "cell_type": "markdown",
   "id": "cd52ee6f-dcc1-4056-9d4d-55c144c5c2f9",
   "metadata": {},
   "source": [
    "#### using DFS search to find all viable routes and saving the best one and time it took to reach the destination"
   ]
  },
  {
   "cell_type": "code",
   "execution_count": 18,
   "id": "d6d52be0-5341-4d27-8ba5-1e04d048d498",
   "metadata": {},
   "outputs": [],
   "source": [
    "def find_best_route(graph, start_loc, end_loc, start_date, path=[], current_t=0):\n",
    "    global min_t\n",
    "    global best_path\n",
    "    path = path + [start_loc]\n",
    "    \n",
    "    if start_loc == end_loc:\n",
    "        min_t = current_t\n",
    "        best_path = path\n",
    "        return\n",
    "    \n",
    "    if start_loc not in graph:\n",
    "        min_t = np.inf\n",
    "        best_path = [\"Invalid starting location\"]\n",
    "        return\n",
    "    \n",
    "    for node in graph[start_loc]:\n",
    "        if node not in path:\n",
    "            start_map = locations_to_number_map[start_loc]\n",
    "            end_map = locations_to_number_map[node]\n",
    "            t_approximated = approx_t_single(create_X_matrix(np.array([[start_date, start_map, end_map]]), 2)[0], w)\n",
    "            next_t = current_t + t_approximated\n",
    "            if next_t >= min_t:\n",
    "                continue\n",
    "            new_routes = find_best_route(graph, node, end_loc, start_date+t_approximated, path, next_t)\n",
    "    return"
   ]
  },
  {
   "cell_type": "markdown",
   "id": "095e3c4c-3649-4290-9a12-e3bbc59e1137",
   "metadata": {},
   "source": [
    "#### loop through the test data and print the results for pedestrians"
   ]
  },
  {
   "cell_type": "code",
   "execution_count": 19,
   "id": "5815abb9-4fba-4f5f-a7d0-8969289841af",
   "metadata": {},
   "outputs": [
    {
     "name": "stdout",
     "output_type": "stream",
     "text": [
      "Fastest route and approximate time for pedestrians for test data\n",
      "\n",
      "Origin: Lanthanum, Destination: Barium\n",
      "The best route is: ['Lanthanum', 'Barium']\n",
      "Approximated travel time for route: 407.56931984133644 seconds\n",
      "\n",
      "Origin: Lutetium, Destination: Niobium\n",
      "The best route is: ['Lutetium', 'Terbium', 'Praseodymium', 'Iodine', 'Silver', 'Niobium']\n",
      "Approximated travel time for route: 2078.0818833627777 seconds\n",
      "\n",
      "Origin: Cadmium, Destination: Thallium\n",
      "The best route is: ['Cadmium', 'Silver', 'Iodine', 'Praseodymium', 'Terbium', 'Gadolinium', 'Ytterbium', 'Osmium', 'Lead', 'Thallium']\n",
      "Approximated travel time for route: 3788.793293915408 seconds\n",
      "\n"
     ]
    }
   ],
   "source": [
    "print(\"Fastest route and approximate time for pedestrians for test data\\n\")\n",
    "for i in range(len(test_df)):\n",
    "    min_t = np.inf\n",
    "    best_path = []\n",
    "    find_best_route(walk_trips, test_df['Origin'][i], test_df['Destination'][i], test_df['Date'][i])\n",
    "    print(f\"Origin: {test_df['Origin'][i]}, Destination: {test_df['Destination'][i]}\")\n",
    "    print(f\"The best route is: {best_path}\")\n",
    "    print(f\"Approximated travel time for route: {min_t} seconds\\n\")"
   ]
  },
  {
   "cell_type": "markdown",
   "id": "d27fa608-6086-4d14-ae6c-10edcef6ff85",
   "metadata": {},
   "source": [
    "## Q8"
   ]
  },
  {
   "cell_type": "markdown",
   "id": "25bd86eb-66ac-4df3-9387-37d414353a11",
   "metadata": {},
   "source": [
    "### retrain the regressor for cars"
   ]
  },
  {
   "cell_type": "code",
   "execution_count": 20,
   "id": "7fea8316-a5a1-49ca-be4d-5404d23b5334",
   "metadata": {},
   "outputs": [],
   "source": [
    "X_mat = create_X_matrix(X_cars, 2)\n",
    "w = calc_w(X_mat, t_cars)"
   ]
  },
  {
   "cell_type": "markdown",
   "id": "a5bd55eb-2715-4e51-9e5b-50efcc30e66c",
   "metadata": {},
   "source": [
    "### print results for people traveling by car"
   ]
  },
  {
   "cell_type": "code",
   "execution_count": 21,
   "id": "7345e442-9f58-45c4-b519-cd3efe06b2d3",
   "metadata": {},
   "outputs": [
    {
     "name": "stdout",
     "output_type": "stream",
     "text": [
      "Fastest route and approximate time for cars for test data\n",
      "\n",
      "Origin: Lanthanum, Destination: Barium\n",
      "The best route is: ['Lanthanum', 'Barium']\n",
      "Approximated travel time for route: 196.90567699567802 seconds\n",
      "\n",
      "Origin: Lutetium, Destination: Niobium\n",
      "The best route is: ['Lutetium', 'Terbium', 'Praseodymium', 'Iodine', 'Silver', 'Niobium']\n",
      "Approximated travel time for route: 1013.1580943819591 seconds\n",
      "\n",
      "Origin: Cadmium, Destination: Thallium\n",
      "The best route is: ['Cadmium', 'Silver', 'Iodine', 'Praseodymium', 'Terbium', 'Lutetium', 'Ytterbium', 'Osmium', 'Lead', 'Thallium']\n",
      "Approximated travel time for route: 1853.5007190812335 seconds\n",
      "\n"
     ]
    }
   ],
   "source": [
    "print(\"Fastest route and approximate time for cars for test data\\n\")\n",
    "for i in range(len(test_df)):\n",
    "    min_t = np.inf\n",
    "    best_path = []\n",
    "    find_best_route(car_trips, test_df['Origin'][i], test_df['Destination'][i], test_df['Date'][i])\n",
    "    print(f\"Origin: {test_df['Origin'][i]}, Destination: {test_df['Destination'][i]}\")\n",
    "    print(f\"The best route is: {best_path}\")\n",
    "    print(f\"Approximated travel time for route: {min_t} seconds\\n\")"
   ]
  },
  {
   "cell_type": "code",
   "execution_count": null,
   "id": "bbb8ab7f-da85-40dd-9d8e-20174456c629",
   "metadata": {},
   "outputs": [],
   "source": []
  }
 ],
 "metadata": {
  "kernelspec": {
   "display_name": "Python 3 (ipykernel)",
   "language": "python",
   "name": "python3"
  },
  "language_info": {
   "codemirror_mode": {
    "name": "ipython",
    "version": 3
   },
   "file_extension": ".py",
   "mimetype": "text/x-python",
   "name": "python",
   "nbconvert_exporter": "python",
   "pygments_lexer": "ipython3",
   "version": "3.10.14"
  }
 },
 "nbformat": 4,
 "nbformat_minor": 5
}
